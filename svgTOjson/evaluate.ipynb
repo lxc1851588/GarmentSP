{
 "cells": [
  {
   "cell_type": "code",
   "execution_count": 22,
   "metadata": {},
   "outputs": [],
   "source": [
    "import os\n",
    "import json"
   ]
  },
  {
   "cell_type": "markdown",
   "metadata": {},
   "source": [
    "# Calculate the RMSE"
   ]
  },
  {
   "cell_type": "code",
   "execution_count": 40,
   "metadata": {},
   "outputs": [],
   "source": [
    "position_error=0\n",
    "x_position_error=0\n",
    "y_position_error=0\n",
    "position_count=0\n",
    "curvature_error=0\n",
    "curvature_count=0"
   ]
  },
  {
   "cell_type": "code",
   "execution_count": 48,
   "metadata": {},
   "outputs": [],
   "source": [
    "origin_path=os.path.join(os.getcwd(),'reference')\n",
    "for root, dirs, files in os.walk('./test'):\n",
    "    for dir_name in dirs:\n",
    "        subdirectory_path = os.path.join(os.getcwd(), 'test', dir_name)\n",
    "      \n",
    "        with open(os.path.join(subdirectory_path,'specification.json'), 'r') as f:\n",
    "            generate=json.load(f)\n",
    "        with open(os.path.join(origin_path,dir_name,'specification.json'), 'r') as f:\n",
    "            origin=json.load(f)\n",
    "\n",
    "        for panel in generate['pattern']['panels'].keys():\n",
    "            vertices1=generate['pattern']['panels'][panel]['vertices']\n",
    "            vertices2=origin['pattern']['panels'][panel]['vertices']\n",
    "            for i in range(len(vertices1)):\n",
    "                position_error+=(vertices1[i][0]-vertices2[i][0])**2+(vertices1[i][1]-vertices2[i][1])**2\n",
    "                x_position_error+=(vertices1[i][0]-vertices2[i][0])**2\n",
    "                y_position_error+=(vertices1[i][1]-vertices2[i][1])**2\n",
    "                position_count+=1\n",
    "            edge1=generate['pattern']['panels'][panel]['edges']\n",
    "            edge2=origin['pattern']['panels'][panel]['edges']\n",
    "            for j in range(len(edge1)):\n",
    "                if(len(edge1[j])==2):\n",
    "                    curvature_error+=(edge1[j]['curvature'][0]-edge2[j]['curvature'][0])**2+(edge1[j]['curvature'][1]-edge2[j]['curvature'][1])**2\n",
    "                    curvature_count+=1\n",
    "\n",
    "        "
   ]
  },
  {
   "cell_type": "code",
   "execution_count": 49,
   "metadata": {},
   "outputs": [
    {
     "name": "stdout",
     "output_type": "stream",
     "text": [
      "position error: 0.9332837304436722\n",
      "x position error: 0.6068605090622087\n",
      "y position error: 0.709040791528681\n",
      "curvature error: 7.502135929843437e-30\n"
     ]
    }
   ],
   "source": [
    "print('position error:',(position_error/position_count)**0.5)\n",
    "print('x position error:',(x_position_error/position_count)**0.5)\n",
    "print('y position error:',(y_position_error/position_count)**0.5)\n",
    "print('curvature error:',curvature_error/curvature_count**0.5)"
   ]
  }
 ],
 "metadata": {
  "kernelspec": {
   "display_name": "dis",
   "language": "python",
   "name": "python3"
  },
  "language_info": {
   "codemirror_mode": {
    "name": "ipython",
    "version": 3
   },
   "file_extension": ".py",
   "mimetype": "text/x-python",
   "name": "python",
   "nbconvert_exporter": "python",
   "pygments_lexer": "ipython3",
   "version": "3.9.18"
  }
 },
 "nbformat": 4,
 "nbformat_minor": 2
}
