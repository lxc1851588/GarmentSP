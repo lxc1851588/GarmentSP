{
 "cells": [
  {
   "cell_type": "code",
   "execution_count": 11,
   "metadata": {},
   "outputs": [],
   "source": [
    "import numpy as np\n",
    "import json"
   ]
  },
  {
   "cell_type": "code",
   "execution_count": 12,
   "metadata": {},
   "outputs": [],
   "source": [
    "panel_offset_dict={}"
   ]
  },
  {
   "cell_type": "code",
   "execution_count": 13,
   "metadata": {},
   "outputs": [],
   "source": [
    "# Skirt panels\n",
    "\n",
    "# skirt_panel_2's fixed points: front: 0(-20.1,30); back: 0(20.1,30)\n",
    "panel_offset_dict['skirt_2_panels']={'front':[0,-20.1,30],'back':[0,20.1,30]}\n",
    "# skirt_2_panels_smaller_front's fixed points: front: 0(symmetric between 0 and 1 and 0's x < 1's x,30); back: 0(symmetric between 0 and 1 and 0's x > 1's x,30)\n",
    "panel_offset_dict['skirt_2_panels_smaller_front']={'front':[[0,np.nan,30],[1,np.nan,1]],'back':[[0,np.nan,30],[1,np.nan,-1]]}\n",
    "# skirt_panel_4's fixed points: front: 0(-14,30); right:0(-5,30); back: 0(14,30); left: 0(-5,30)\n",
    "panel_offset_dict['skirt_4_panels']={'front':[0,-14,30],'right':[0,-5,30],'back':[0,14,30],'left':[0,-5,30]}\n",
    "# skirt_panel_8's fixed points: back: 0(-5,30); right_0:0(-5,30); right_1: 0(-5,30); right_2: 0(-5,30); left_0: 0(-5,30); left_1: 0(-5,30); left_2: 0(-5,30); front: 0(-5,30)\n",
    "panel_offset_dict['skirt_8_panels']={'back':[0,-5,30],'right_0':[0,-5,30],'right_1':[0,-5,30],'right_2':[0,-5,30],'left_0':[0,-5,30],'left_1':[0,-5,30],'left_2':[0,-5,30],'front':[0,-5,30]}\n",
    "# skirt_waistband's fixed points: front: 0(symmetric between 0 and 1 and 0's x < 1's x,30); wb_back: -1(15,-2); wb_front: -1(-15,-2); back: 0(symmetric between 0 and 1 and 0's x > 1's x,30)\n",
    "panel_offset_dict['skirt_waistband']={'front':[[0,np.nan,30],[1,np.nan,1]],'wb_back':[-1,15,-2],'wb_front':[-1,-15,-2],'back':[[0,np.nan,30],[1,np.nan,-1]]}  \n",
    "# For front and back, the first list is the point for the movement of the panel, the second list is the reference point to the first point. Like for back, the first point is 0, the reference point to calculate the length is 1. \n",
    "# The reference point's second element is np.nan, which indicates it's a reference, and the last element is to compare the value between the two points if the first one is on the left(1) or right(-1) of the second one.\n"
   ]
  },
  {
   "cell_type": "code",
   "execution_count": 14,
   "metadata": {},
   "outputs": [],
   "source": [
    "# Pants panels\n",
    "\n",
    "# pants_flared's fixed points: Lback: -1(35,-30); Rback: -1(-35,-30); Rfront: -1(25,-30); Lfront: -1(-25,-30)\n",
    "panel_offset_dict['pants_flare']={'Lback':[-1,35,-30],'Rback':[-1,-35,-30],'Rfront':[-1,25,-30],'Lfront':[-1,-25,-30]}\n",
    "# pants_flare_TA_pose's fixed points: Lback: -1(35,-30); Rback: -1(-35,-30); Rfront: -1(25,-30); Lfront: -1(-25,-30)\n",
    "panel_offset_dict['pants_flare_TA_pose']={'Lback':[-1,35,-30],'Rback':[-1,-35,-30],'Rfront':[-1,25,-30],'Lfront':[-1,-25,-30]}\n",
    "# pants_straight_sides's fixed points: Lback: -1(35,-30); Rback: -1(-35,-30); Rfront: -1(25,-30); Lfront: -1(-25,-30)\n",
    "panel_offset_dict['pants_straight_sides']={'Lback':[-1,35,-30],'Rback':[-1,-35,-30],'Rfront':[-1,25,-30],'Lfront':[-1,-25,-30]}\n",
    "# pants_straight_sides_TA_pose's fixed points: Lback: -1(35,-30); Rback: -1(-35,-30); Rfront: -1(25,-30); Lfront: -1(-25,-30)\n",
    "panel_offset_dict['pants_straight_sides_TA_pose']={'Lback':[-1,35,-30],'Rback':[-1,-35,-30],'Rfront':[-1,25,-30],'Lfront':[-1,-25,-30]}\n",
    "# wb_pants_straight's fixed points: Lback: -1(30,-30); Rback: -1(-30,-30); Rfront: -1(30,-30); Lfront: -1(-30,-30); wb_back: -1(13,-2); wb_front: -1(-13,-2)\n",
    "panel_offset_dict['wb_pants_straight']={'Lback':[-1,30,-30],'Rback':[-1,-30,-30],'Rfront':[-1,30,-30],'Lfront':[-1,-30,-30],'wb_back':[-1,13,-2],'wb_front':[-1,-13,-2]}"
   ]
  },
  {
   "cell_type": "code",
   "execution_count": 15,
   "metadata": {},
   "outputs": [],
   "source": [
    "# Jacket panels\n",
    "\n",
    "# jacket's fixed points: lfsleeve: 2(8.333333333333332,-8.333333333333332); back: 0(symmetric between 0 and -1 and 0's x > -1's x,19.583333333333332); lbsleeve: 1(8.333333333333332,8.333333333333332); rfsleeve: 1(8.333333333333332,8.333333333333332); \n",
    "# rbsleeve: 2(8.333333333333332,-8.333333333333332); front_right: 0(0,...) and 1(...,18.703703703703702); front_left: 0(0,...) and -1(...,18.703703703703702)\n",
    "panel_offset_dict['jacket']={'lfsleeve':[2,8.333333333333332,-8.333333333333332],'back':[[0,np.nan,19.583333333333332],[-1,np.nan,-1]],'lbsleeve':[1,8.333333333333332,8.333333333333332],'rfsleeve':[1,8.333333333333332,8.333333333333332], 'rbsleeve':[2,8.333333333333332,-8.333333333333332],\n",
    "                             'front_right':[[0,0,np.nan],[1,np.nan,18.703703703703702]],'front_left':[[0,0,np.nan],[-1,np.nan,18.703703703703702]]}\n",
    "# In order to tell the symmetric case and the two-point xy reference case, you have to tell if the np.nan is in the same position in the two points. If it is, it's a symmetric case, otherwise, it's a two-point xy reference case.\n",
    "\n",
    "# jacket_hood's fixed points: lfsleeve: 2(8.333333333333332,-8.333333333333332); back: -1(0.0,16.916666666666664); lbsleeve: 1(8.333333333333332,8.333333333333332); rfsleeve: 1(8.333333333333332,8.333333333333332); rbsleeve: 2(8.333333333333332,-8.333333333333332); \n",
    "# front_right: 0(0,...) and 1(...,18.703703703703702); front_left: 0(0,...) and -1(...,18.703703703703702); Lhood: 0(-23.333333333333332,...) and 2(...,-16); Rhood: -1(-23.333333333333332,...) and 2(...,16)\n",
    "panel_offset_dict['jacket_hood']={'lfsleeve': [2,8.333333333333332,-8.333333333333332],'back':[-1,0.0,16.916666666666664],'lbsleeve':[1,8.333333333333332,8.333333333333332],'rfsleeve':[1,8.333333333333332,8.333333333333332],'rbsleeve':[2,8.333333333333332,-8.333333333333332], \n",
    "                                  'front_right':[[0,0,np.nan],[1,np.nan,18.703703703703702]],'front_left':[[0,0,np.nan],[-1,np.nan,18.703703703703702]],'Lhood':[[0,-23.333333333333332,np.nan],[2,np.nan,-16]],'Rhood':[[-1,-23.333333333333332,np.nan],[2,np.nan,16]]}\n",
    "\n",
    "# jacket_sleeveless's fixed points: back: 0(symmetric between 0 and -1 and 0's x > -1's x,19.583333333333332); front_right: 0(0,...) and 1(...,18.703703703703702); front_left: 0(0,...) and -1(...,18.703703703703702)\n",
    "panel_offset_dict['jacket_sleeveless']={'back':[[0,np.nan,19.583333333333332],[-1,np.nan,-1]],'front_right':[[0,0,np.nan],[1,np.nan,18.703703703703702]],'front_left':[[0,0,np.nan],[-1,np.nan,18.703703703703702]]}\n",
    "# jacket_hood_sleeveless's fixed points: back: 0(symmetric between 0 and -1 and 0's x > -1's x,19.583333333333332); front_right: 0(0,...) and 1(...,18.703703703703702); front_left: 0(0,...) and -1(...,18.703703703703702); Lhood: 0(-23.333333333333332,...) and 2(...,-16); Rhood: -1(-23.333333333333332,...) and 2(...,16)\n",
    "panel_offset_dict['jacket_hood_sleeveless']={'back':[[0,np.nan,19.583333333333332],[-1,np.nan,-1]],'front_right':[[0,0,np.nan],[1,np.nan,18.703703703703702]],'front_left':[[0,0,np.nan],[-1,np.nan,18.703703703703702]],'Lhood':[[0,-23.333333333333332,np.nan],[2,np.nan,-16]],'Rhood':[[-1,-23.333333333333332,np.nan],[2,np.nan,16]]}"
   ]
  },
  {
   "cell_type": "code",
   "execution_count": 16,
   "metadata": {},
   "outputs": [],
   "source": [
    "# Dress panels\n",
    "\n",
    "# dress's fixed points: top_back: 0(symmetric between 0 and -1 and 0's x > -1's x,19.583333333333332); top_front: 0(0,...) and 1(...,18.703703703703702); skirt_front: 0(symmetric between 0 and 1 and 0's x < 1's x, 24.999999999999993); skirt_back: 0(symmetric between 0 and 1 and 0's x > 1's x, 24.999999999999993); lfsleeve: 2(8.333333333333332,-8.333333333333332); lbsleeve: 1(8.333333333333332,8.333333333333332); rbsleeve: 2(8.333333333333332,-8.333333333333332); rfsleeve: 1(8.333333333333332,8.333333333333332); \n",
    "panel_offset_dict['dress']={'top_back':[[0,np.nan,19.583333333333332],[-1,np.nan,-1]],'top_front':[[0,0,np.nan],[1,np.nan,18.703703703703702]],'skirt_front':[[0,np.nan,24.999999999999993],[1,np.nan,1]], 'skirt_back':[[0,np.nan,24.999999999999993],[1,np.nan,-1]], 'lfsleeve':[2,8.333333333333332,-8.333333333333332],'lbsleeve':[1,8.333333333333332,8.333333333333332], 'rbsleeve':[2,8.333333333333332,-8.333333333333332],'rfsleeve':[1,8.333333333333332,8.333333333333332]}\n",
    "# dress_sleeveless's fixed points: top_back: 0(symmetric between 0 and -1 and 0's x > -1's x,19.583333333333332); top_front: 0(0,...) and 1(...,18.703703703703702); skirt_front: 0(symmetric between 0 and 1 and 0's x < 1's x, 24.999999999999993); skirt_back: 0(symmetric between 0 and 1 and 0's x > 1's x, 24.999999999999993)\n",
    "panel_offset_dict['dress_sleeveless']={'top_back':[[0,np.nan,19.583333333333332],[-1,np.nan,-1]],'top_front':[[0,0,np.nan],[1,np.nan,18.703703703703702]],'skirt_front':[[0,np.nan,24.999999999999993],[1,np.nan,1]], 'skirt_back':[[0,np.nan,24.999999999999993],[1,np.nan,-1]]}\n",
    "# wb_dress_sleeveless's fixed points: top_back: 0(symmetric between 0 and -1 and 0's x > -1's x,19.583333333333332); top_front: 0(0,...) and 1(...,18.703703703703702); skirt_front: 0(symmetric between 0 and 1 and 0's x < 1's x, 30); skirt_back: 0(symmetric between 0 and 1 and 0's x > 1's x, 30); wb_back: 1(-15,2); wb_front: 1(15,2)\n",
    "panel_offset_dict['wb_dress_sleeveless']={'top_back':[[0,np.nan,19.583333333333332],[-1,np.nan,-1]],'top_front':[[0,0,np.nan],[1,np.nan,18.703703703703702]],'skirt_front':[[0,np.nan,30],[1,np.nan,1]], 'skirt_back':[[0,np.nan,30],[1,np.nan,-1]],'wb_back':[1,-15,2],'wb_front':[1,15,2]}"
   ]
  },
  {
   "cell_type": "code",
   "execution_count": 17,
   "metadata": {},
   "outputs": [],
   "source": [
    "# Jump suit panels\n",
    "\n",
    "# jumpsuit's fixed points: up_back: 0(symmetric between 0 and -1 and 0's x > -1's x,19.583333333333332); up_front: 0(0,...) and 1(...,18.703703703703702); rbsleeve: 2(8.333333333333332,-8.333333333333332); rfsleeve: 1(8.333333333333332,8.333333333333332); lfsleeve: 2(8.333333333333332,-8.333333333333332); lbsleeve: 1(8.333333333333332,8.333333333333332); Lback: 0(21.67,0.0); Rback: 0(-21.67,0.0); Rfront: 0(21.67,0.0); Lfront: 0(-21.67,0)\n",
    "panel_offset_dict['jumpsuit']={'up_back':[[0,np.nan,19.583333333333332],[-1,np.nan,-1]],'up_front':[[0,0,np.nan],[1,np.nan,18.703703703703702]],'rbsleeve':[2,8.333333333333332,-8.333333333333332],'rfsleeve':[1,8.333333333333332,8.333333333333332], 'lfsleeve':[2,8.333333333333332,-8.333333333333332],'lbsleeve':[1,8.333333333333332,8.333333333333332], 'Lback':[0,21.67,0.0],'Rback':[0,-21.67,0.0],'Rfront':[0,21.67,0.0],'Lfront':[0,-21.67,0.0]}\n",
    "# wb_jumpsuit_sleeveless's fixed points: Lback: -1(30,-30); Rback: -1(-30,-30); Rfront: -1(30,-30); Lfront: -1(-30,-30); wb_back: -1(13,-2); wb_front: -1(-13,-2); top_back: 0(symmetric between 0 and -1 and 0's x > -1's x,19.583333333333332); top_front: 0(0,...) and 1(...,18.703703703703702)\n",
    "panel_offset_dict['wb_jumpsuit_sleeveless']={'Lback': [-1,30,-30],'Rback': [-1,-30,-30],'Rfront': [-1,30,-30],'Lfront': [-1,-30,-30], 'wb_back': [-1,13,-2],'wb_front': [-1,-13,-2], 'top_back': [[0,np.nan,19.583333333333332],[-1,np.nan,-1]], 'top_front': [[0,0,np.nan],[1,np.nan,18.703703703703702]]}\n",
    "# jumpsuit_sleeveless's fixed points: up_back: 0(symmetric between 0 and -1 and 0's x > -1's x,19.583333333333332); up_front: 0(0,...) and 1(...,18.703703703703702); Lback: 0(21.67,0); Rback: 0(-21.67,0); Rfront: 0(21.67,0); Lfront: 0(-21.67,0)\n",
    "panel_offset_dict['jumpsuit_sleeveless']={'up_back':[[0,np.nan,19.583333333333332],[-1,np.nan,-1]],'up_front':[[0,0,np.nan],[1,np.nan,18.703703703703702]],'Lback': [0,21.67,0],'Rback': [0,-21.67,0],'Rfront': [0,21.67,0],'Lfront': [0,-21.67,0]}"
   ]
  },
  {
   "cell_type": "code",
   "execution_count": 18,
   "metadata": {},
   "outputs": [],
   "source": [
    "# Tee panels\n",
    "\n",
    "# tee's fixed points: lfsleeve: 2(8.333333333333332,-8.333333333333332); back: 0(symmetric between 0 and -1 and 0's x > -1's x,19.583333333333332); lbsleeve: 1(8.333333333333332,8.333333333333332); rfsleeve: 1(8.333333333333332,8.333333333333332); rbsleeve: 2(8.333333333333332,-8.333333333333332); front: 0(0,...) and -1(...,18.703703703703702)\n",
    "panel_offset_dict['tee']={'lfsleeve':[2,8.333333333333332,-8.333333333333332],'back':[[0,np.nan,19.583333333333332],[-1,np.nan,-1]],'lbsleeve':[1,8.333333333333332,8.333333333333332],'rfsleeve':[1,8.333333333333332,8.333333333333332],'rbsleeve':[2,8.333333333333332,-8.333333333333332],'front':[[0,0,np.nan],[-1,np.nan,18.703703703703702]]}\n",
    "# tee_hood's fixed points: lfsleeve: 2(8.333333333333332,-8.333333333333332); back: -1(0.0,16.916666666666664); lbsleeve: 1(8.333333333333332,8.333333333333332); rfsleeve: 1(8.333333333333332,8.333333333333332); rbsleeve: 2(8.333333333333332,-8.333333333333332); front: 0(0,...) and -1(...,18.703703703703702); Lhood: 0(-23.333333333333332,...) and 2(...,-16); Rhood: -1(-23.333333333333332,...) and 2(...,16)\n",
    "panel_offset_dict['tee_hood']={'lfsleeve': [2,8.333333333333332,-8.333333333333332],'back': [-1,0.0,16.916666666666664],'lbsleeve' : [1,8.333333333333332,8.333333333333332],'rfsleeve': [1,8.333333333333332,8.333333333333332],'rbsleeve': [2,8.333333333333332,-8.333333333333332],'front': [[0,0,np.nan],[-1,np.nan,18.703703703703702]], 'Lhood': [[0,-23.333333333333332,np.nan],[2,np.nan,-16]], 'Rhood': [[-1,-23.333333333333332,np.nan],[2,np.nan,16]]}\n",
    "# tee_sleeveless's fixed points: back: 0(symmetric between 0 and -1 and 0's x > -1's x,19.583333333333332); front: 0(0,...) and -1(...,18.703703703703702)\n",
    "panel_offset_dict['tee_sleeveless']={'back':[[0,np.nan,19.583333333333332],[-1,np.nan,-1]],'front':[[0,0,np.nan],[-1,np.nan,18.703703703703702]]}\n"
   ]
  },
  {
   "cell_type": "code",
   "execution_count": 19,
   "metadata": {},
   "outputs": [],
   "source": [
    "def replace_nan_with_none(data):\n",
    "    if isinstance(data, dict):\n",
    "        return {k: replace_nan_with_none(v) for k, v in data.items()}\n",
    "    elif isinstance(data, list):\n",
    "        return [replace_nan_with_none(element) for element in data]\n",
    "    elif isinstance(data, float) and np.isnan(data):\n",
    "        return None\n",
    "    else:\n",
    "        return data"
   ]
  },
  {
   "cell_type": "code",
   "execution_count": 20,
   "metadata": {},
   "outputs": [],
   "source": [
    "panel_offset_dict = replace_nan_with_none(panel_offset_dict)\n",
    "with open('panel_offset_dict.json', 'w') as json_file:\n",
    "    json.dump(panel_offset_dict, json_file, indent=4)"
   ]
  }
 ],
 "metadata": {
  "kernelspec": {
   "display_name": "dis",
   "language": "python",
   "name": "python3"
  },
  "language_info": {
   "codemirror_mode": {
    "name": "ipython",
    "version": 3
   },
   "file_extension": ".py",
   "mimetype": "text/x-python",
   "name": "python",
   "nbconvert_exporter": "python",
   "pygments_lexer": "ipython3",
   "version": "3.9.18"
  }
 },
 "nbformat": 4,
 "nbformat_minor": 2
}
